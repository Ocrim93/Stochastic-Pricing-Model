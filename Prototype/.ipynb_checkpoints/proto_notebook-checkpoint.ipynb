{
 "cells": [
  {
   "cell_type": "code",
   "execution_count": 1,
   "id": "eee297b2-4a58-40a5-9cb1-eb0d1a230a21",
   "metadata": {},
   "outputs": [],
   "source": [
    "from volatility_surface import Volatility_Surface\n",
    "from analytics import Analytics,AnalyticsForward\n",
    "import math"
   ]
  },
  {
   "cell_type": "code",
   "execution_count": 2,
   "id": "60a5d1f5-f18f-4de6-8399-5e704cca874d",
   "metadata": {},
   "outputs": [],
   "source": [
    "\n",
    "strike = 4700\n",
    "r = 0.0433898\n",
    "time_to_expiration= 5.2758\n",
    "q = r \n",
    "S = 7709.97\n",
    "target = 2557.62\n",
    "start = 0.2\n",
    "\n"
   ]
  },
  {
   "cell_type": "code",
   "execution_count": 3,
   "id": "6ef9fbfb-f29b-4a02-85a7-2f3affb17cfb",
   "metadata": {},
   "outputs": [
    {
     "name": "stdout",
     "output_type": "stream",
     "text": [
      ".       2549.2243212396775 2557.62 0.2\n",
      "0.2035105539678668 2557.700660544134 2391.553822322831\n",
      ".       2557.700660544134 2557.62 0.2035105539678668\n",
      "0.20347745876223294 2557.6200069956803 2437.2274650982176\n",
      "0.20347745876223294\n"
     ]
    }
   ],
   "source": [
    "payoff = lambda vol :   AnalyticsForward.BSCall(S,strike,vol,r,time_to_expiration)\n",
    "\n",
    "vega = lambda  vol  :   AnalyticsForward.BSVega(S,strike,vol,r,time_to_expiration)\n",
    "IV = Volatility_Surface.NewtonRaphson(target,start, payoff, vega, 1e-3 )\n",
    "print(IV)"
   ]
  },
  {
   "cell_type": "code",
   "execution_count": 4,
   "id": "a0e8d240-23ec-43ba-b498-0d5cff237cc1",
   "metadata": {},
   "outputs": [],
   "source": [
    "from scipy.optimize import newton\n",
    "res = newton(payoff, 0.2, tol=0.001, maxiter=1000000)\n"
   ]
  },
  {
   "cell_type": "code",
   "execution_count": 5,
   "id": "04891002-c449-4975-9f15-1d90c978f89e",
   "metadata": {},
   "outputs": [
    {
     "name": "stdout",
     "output_type": "stream",
     "text": [
      "-0.040005383603880264\n"
     ]
    }
   ],
   "source": [
    "print(res)"
   ]
  },
  {
   "cell_type": "code",
   "execution_count": null,
   "id": "f872c530-ea64-4627-9c19-ad80966941ca",
   "metadata": {},
   "outputs": [],
   "source": []
  }
 ],
 "metadata": {
  "kernelspec": {
   "display_name": "Python 3 (ipykernel)",
   "language": "python",
   "name": "python3"
  },
  "language_info": {
   "codemirror_mode": {
    "name": "ipython",
    "version": 3
   },
   "file_extension": ".py",
   "mimetype": "text/x-python",
   "name": "python",
   "nbconvert_exporter": "python",
   "pygments_lexer": "ipython3",
   "version": "3.10.18"
  }
 },
 "nbformat": 4,
 "nbformat_minor": 5
}
